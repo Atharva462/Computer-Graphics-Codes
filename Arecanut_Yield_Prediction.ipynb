{
  "nbformat": 4,
  "nbformat_minor": 0,
  "metadata": {
    "colab": {
      "provenance": [],
      "authorship_tag": "ABX9TyNAYGRI3egye7ddTojDV2ou",
      "include_colab_link": true
    },
    "kernelspec": {
      "name": "python3",
      "display_name": "Python 3"
    },
    "language_info": {
      "name": "python"
    }
  },
  "cells": [
    {
      "cell_type": "markdown",
      "metadata": {
        "id": "view-in-github",
        "colab_type": "text"
      },
      "source": [
        "<a href=\"https://colab.research.google.com/github/Atharva462/Computer-Graphics-Codes/blob/main/Arecanut_Yield_Prediction.ipynb\" target=\"_parent\"><img src=\"https://colab.research.google.com/assets/colab-badge.svg\" alt=\"Open In Colab\"/></a>"
      ]
    },
    {
      "cell_type": "markdown",
      "source": [
        "<h1>Arecanut Yield Prediction Project</h1>\n",
        "\n"
      ],
      "metadata": {
        "id": "WawdB-QJRhFC"
      }
    },
    {
      "cell_type": "markdown",
      "source": [
        "***Project Statement:*** `Developing a predictive model to estimate the production yield of Arecanut in the india can address several critical issues. By utilizing historical data and features such as state, district, crop, year, season, and area, this model can provide accurate predictions of Arecanut production and yield. This capability is essential for effective planning and optimization of agricultural practices, resource allocation, and policy-making. The main problem is the lack of reliable, data-driven insights to guide decisions, which can lead to suboptimal resource use, inefficient agricultural practices, and uninformed policy-making. By predicting Arecanut yield more accurately, stakeholders can enhance productivity, improve resource management, and support sustainable agricultural development in the region`"
      ],
      "metadata": {
        "id": "8F6kEqS4VUDE"
      }
    },
    {
      "cell_type": "markdown",
      "source": [
        "<h2> Step 1: Import libraries</h2>"
      ],
      "metadata": {
        "id": "g0BIX-WDV6qz"
      }
    },
    {
      "cell_type": "code",
      "source": [
        "import pandas as pd\n",
        "import numpy as np\n",
        "import matplotlib.pyplot as plt\n",
        "import seaborn as sns\n",
        "from google.colab import files\n",
        "uploaded = files.upload()\n",
        "from sklearn.model_selection import train_test_split, GridSearchCV\n",
        "from sklearn.preprocessing import LabelEncoder, StandardScaler\n",
        "from sklearn.linear_model import LinearRegression\n",
        "from sklearn.ensemble import RandomForestRegressor\n",
        "from sklearn.metrics import mean_absolute_error, mean_squared_error, r2_score"
      ],
      "metadata": {
        "colab": {
          "base_uri": "https://localhost:8080/",
          "height": 73
        },
        "id": "BTZ_aSe9QR0u",
        "outputId": "e3a3c3f6-5fde-416b-f888-3307dd575f0c"
      },
      "execution_count": 9,
      "outputs": [
        {
          "output_type": "display_data",
          "data": {
            "text/plain": [
              "<IPython.core.display.HTML object>"
            ],
            "text/html": [
              "\n",
              "     <input type=\"file\" id=\"files-4e25c552-79fe-4cc6-979b-36a902675de6\" name=\"files[]\" multiple disabled\n",
              "        style=\"border:none\" />\n",
              "     <output id=\"result-4e25c552-79fe-4cc6-979b-36a902675de6\">\n",
              "      Upload widget is only available when the cell has been executed in the\n",
              "      current browser session. Please rerun this cell to enable.\n",
              "      </output>\n",
              "      <script>// Copyright 2017 Google LLC\n",
              "//\n",
              "// Licensed under the Apache License, Version 2.0 (the \"License\");\n",
              "// you may not use this file except in compliance with the License.\n",
              "// You may obtain a copy of the License at\n",
              "//\n",
              "//      http://www.apache.org/licenses/LICENSE-2.0\n",
              "//\n",
              "// Unless required by applicable law or agreed to in writing, software\n",
              "// distributed under the License is distributed on an \"AS IS\" BASIS,\n",
              "// WITHOUT WARRANTIES OR CONDITIONS OF ANY KIND, either express or implied.\n",
              "// See the License for the specific language governing permissions and\n",
              "// limitations under the License.\n",
              "\n",
              "/**\n",
              " * @fileoverview Helpers for google.colab Python module.\n",
              " */\n",
              "(function(scope) {\n",
              "function span(text, styleAttributes = {}) {\n",
              "  const element = document.createElement('span');\n",
              "  element.textContent = text;\n",
              "  for (const key of Object.keys(styleAttributes)) {\n",
              "    element.style[key] = styleAttributes[key];\n",
              "  }\n",
              "  return element;\n",
              "}\n",
              "\n",
              "// Max number of bytes which will be uploaded at a time.\n",
              "const MAX_PAYLOAD_SIZE = 100 * 1024;\n",
              "\n",
              "function _uploadFiles(inputId, outputId) {\n",
              "  const steps = uploadFilesStep(inputId, outputId);\n",
              "  const outputElement = document.getElementById(outputId);\n",
              "  // Cache steps on the outputElement to make it available for the next call\n",
              "  // to uploadFilesContinue from Python.\n",
              "  outputElement.steps = steps;\n",
              "\n",
              "  return _uploadFilesContinue(outputId);\n",
              "}\n",
              "\n",
              "// This is roughly an async generator (not supported in the browser yet),\n",
              "// where there are multiple asynchronous steps and the Python side is going\n",
              "// to poll for completion of each step.\n",
              "// This uses a Promise to block the python side on completion of each step,\n",
              "// then passes the result of the previous step as the input to the next step.\n",
              "function _uploadFilesContinue(outputId) {\n",
              "  const outputElement = document.getElementById(outputId);\n",
              "  const steps = outputElement.steps;\n",
              "\n",
              "  const next = steps.next(outputElement.lastPromiseValue);\n",
              "  return Promise.resolve(next.value.promise).then((value) => {\n",
              "    // Cache the last promise value to make it available to the next\n",
              "    // step of the generator.\n",
              "    outputElement.lastPromiseValue = value;\n",
              "    return next.value.response;\n",
              "  });\n",
              "}\n",
              "\n",
              "/**\n",
              " * Generator function which is called between each async step of the upload\n",
              " * process.\n",
              " * @param {string} inputId Element ID of the input file picker element.\n",
              " * @param {string} outputId Element ID of the output display.\n",
              " * @return {!Iterable<!Object>} Iterable of next steps.\n",
              " */\n",
              "function* uploadFilesStep(inputId, outputId) {\n",
              "  const inputElement = document.getElementById(inputId);\n",
              "  inputElement.disabled = false;\n",
              "\n",
              "  const outputElement = document.getElementById(outputId);\n",
              "  outputElement.innerHTML = '';\n",
              "\n",
              "  const pickedPromise = new Promise((resolve) => {\n",
              "    inputElement.addEventListener('change', (e) => {\n",
              "      resolve(e.target.files);\n",
              "    });\n",
              "  });\n",
              "\n",
              "  const cancel = document.createElement('button');\n",
              "  inputElement.parentElement.appendChild(cancel);\n",
              "  cancel.textContent = 'Cancel upload';\n",
              "  const cancelPromise = new Promise((resolve) => {\n",
              "    cancel.onclick = () => {\n",
              "      resolve(null);\n",
              "    };\n",
              "  });\n",
              "\n",
              "  // Wait for the user to pick the files.\n",
              "  const files = yield {\n",
              "    promise: Promise.race([pickedPromise, cancelPromise]),\n",
              "    response: {\n",
              "      action: 'starting',\n",
              "    }\n",
              "  };\n",
              "\n",
              "  cancel.remove();\n",
              "\n",
              "  // Disable the input element since further picks are not allowed.\n",
              "  inputElement.disabled = true;\n",
              "\n",
              "  if (!files) {\n",
              "    return {\n",
              "      response: {\n",
              "        action: 'complete',\n",
              "      }\n",
              "    };\n",
              "  }\n",
              "\n",
              "  for (const file of files) {\n",
              "    const li = document.createElement('li');\n",
              "    li.append(span(file.name, {fontWeight: 'bold'}));\n",
              "    li.append(span(\n",
              "        `(${file.type || 'n/a'}) - ${file.size} bytes, ` +\n",
              "        `last modified: ${\n",
              "            file.lastModifiedDate ? file.lastModifiedDate.toLocaleDateString() :\n",
              "                                    'n/a'} - `));\n",
              "    const percent = span('0% done');\n",
              "    li.appendChild(percent);\n",
              "\n",
              "    outputElement.appendChild(li);\n",
              "\n",
              "    const fileDataPromise = new Promise((resolve) => {\n",
              "      const reader = new FileReader();\n",
              "      reader.onload = (e) => {\n",
              "        resolve(e.target.result);\n",
              "      };\n",
              "      reader.readAsArrayBuffer(file);\n",
              "    });\n",
              "    // Wait for the data to be ready.\n",
              "    let fileData = yield {\n",
              "      promise: fileDataPromise,\n",
              "      response: {\n",
              "        action: 'continue',\n",
              "      }\n",
              "    };\n",
              "\n",
              "    // Use a chunked sending to avoid message size limits. See b/62115660.\n",
              "    let position = 0;\n",
              "    do {\n",
              "      const length = Math.min(fileData.byteLength - position, MAX_PAYLOAD_SIZE);\n",
              "      const chunk = new Uint8Array(fileData, position, length);\n",
              "      position += length;\n",
              "\n",
              "      const base64 = btoa(String.fromCharCode.apply(null, chunk));\n",
              "      yield {\n",
              "        response: {\n",
              "          action: 'append',\n",
              "          file: file.name,\n",
              "          data: base64,\n",
              "        },\n",
              "      };\n",
              "\n",
              "      let percentDone = fileData.byteLength === 0 ?\n",
              "          100 :\n",
              "          Math.round((position / fileData.byteLength) * 100);\n",
              "      percent.textContent = `${percentDone}% done`;\n",
              "\n",
              "    } while (position < fileData.byteLength);\n",
              "  }\n",
              "\n",
              "  // All done.\n",
              "  yield {\n",
              "    response: {\n",
              "      action: 'complete',\n",
              "    }\n",
              "  };\n",
              "}\n",
              "\n",
              "scope.google = scope.google || {};\n",
              "scope.google.colab = scope.google.colab || {};\n",
              "scope.google.colab._files = {\n",
              "  _uploadFiles,\n",
              "  _uploadFilesContinue,\n",
              "};\n",
              "})(self);\n",
              "</script> "
            ]
          },
          "metadata": {}
        },
        {
          "output_type": "stream",
          "name": "stdout",
          "text": [
            "Saving India Agriculture Crop Production(in).csv to India Agriculture Crop Production(in).csv\n"
          ]
        }
      ]
    },
    {
      "cell_type": "markdown",
      "source": [
        "<h2>Step 2: Load dataset</h2>"
      ],
      "metadata": {
        "id": "swlzYMAdWNzW"
      }
    },
    {
      "cell_type": "code",
      "source": [
        "file_path = \"/content/India Agriculture Crop Production(in).csv\"  # Upload your file to Colab first\n",
        "df = pd.read_csv(file_path)\n",
        "print(\"Dataset Loaded Successfully\")\n",
        "print(\"Dataset Shape:\", df.shape)"
      ],
      "metadata": {
        "colab": {
          "base_uri": "https://localhost:8080/"
        },
        "id": "pLTF4GA8WXvu",
        "outputId": "b0be5e37-081b-4eb1-9a57-ee22b416938e"
      },
      "execution_count": 10,
      "outputs": [
        {
          "output_type": "stream",
          "name": "stdout",
          "text": [
            "Dataset Loaded Successfully\n",
            "Dataset Shape: (345407, 10)\n"
          ]
        }
      ]
    },
    {
      "cell_type": "markdown",
      "source": [
        "<h2>Step 3: Basic Information</h2>"
      ],
      "metadata": {
        "id": "rLGp3LdrWaPo"
      }
    },
    {
      "cell_type": "code",
      "source": [
        "print(\"\\n--- Dataset Info ---\")\n",
        "df.info()\n",
        "print(\"\\n--- Missing Values ---\")\n",
        "print(df.isnull().sum())"
      ],
      "metadata": {
        "colab": {
          "base_uri": "https://localhost:8080/"
        },
        "id": "xojEEdiWWokR",
        "outputId": "38bac38d-59b1-48c8-a610-ed979687d6c1"
      },
      "execution_count": 11,
      "outputs": [
        {
          "output_type": "stream",
          "name": "stdout",
          "text": [
            "\n",
            "--- Dataset Info ---\n",
            "<class 'pandas.core.frame.DataFrame'>\n",
            "RangeIndex: 345407 entries, 0 to 345406\n",
            "Data columns (total 10 columns):\n",
            " #   Column            Non-Null Count   Dtype  \n",
            "---  ------            --------------   -----  \n",
            " 0   State             345407 non-null  object \n",
            " 1   District          345407 non-null  object \n",
            " 2   Crop              345375 non-null  object \n",
            " 3   Year              345407 non-null  object \n",
            " 4   Season            345406 non-null  object \n",
            " 5   Area              345374 non-null  float64\n",
            " 6   Area Units        345407 non-null  object \n",
            " 7   Production        340414 non-null  float64\n",
            " 8   Production Units  345407 non-null  object \n",
            " 9   Yield             345374 non-null  float64\n",
            "dtypes: float64(3), object(7)\n",
            "memory usage: 26.4+ MB\n",
            "\n",
            "--- Missing Values ---\n",
            "State                  0\n",
            "District               0\n",
            "Crop                  32\n",
            "Year                   0\n",
            "Season                 1\n",
            "Area                  33\n",
            "Area Units             0\n",
            "Production          4993\n",
            "Production Units       0\n",
            "Yield                 33\n",
            "dtype: int64\n"
          ]
        }
      ]
    },
    {
      "cell_type": "markdown",
      "source": [
        "<h2>Step 4: Display sample rows</h2>"
      ],
      "metadata": {
        "id": "7AEYmaMXWqY_"
      }
    },
    {
      "cell_type": "code",
      "source": [
        "print(\"\\n--- Sample Data ---\")\n",
        "print(df.head())"
      ],
      "metadata": {
        "colab": {
          "base_uri": "https://localhost:8080/"
        },
        "id": "dui4AtgJWykb",
        "outputId": "cc4283dc-011d-4892-e865-d3dd7805fbf3"
      },
      "execution_count": 12,
      "outputs": [
        {
          "output_type": "stream",
          "name": "stdout",
          "text": [
            "\n",
            "--- Sample Data ---\n",
            "                         State                  District      Crop     Year  \\\n",
            "0  Andaman and Nicobar Islands                  NICOBARS  Arecanut  2001-02   \n",
            "1  Andaman and Nicobar Islands                  NICOBARS  Arecanut  2002-03   \n",
            "2  Andaman and Nicobar Islands                  NICOBARS  Arecanut  2003-04   \n",
            "3  Andaman and Nicobar Islands  NORTH AND MIDDLE ANDAMAN  Arecanut  2001-02   \n",
            "4  Andaman and Nicobar Islands            SOUTH ANDAMANS  Arecanut  2002-03   \n",
            "\n",
            "       Season    Area Area Units  Production Production Units     Yield  \n",
            "0      Kharif  1254.0    Hectare      2061.0           Tonnes  1.643541  \n",
            "1  Whole Year  1258.0    Hectare      2083.0           Tonnes  1.655803  \n",
            "2  Whole Year  1261.0    Hectare      1525.0           Tonnes  1.209358  \n",
            "3      Kharif  3100.0    Hectare      5239.0           Tonnes  1.690000  \n",
            "4  Whole Year  3105.0    Hectare      5267.0           Tonnes  1.696296  \n"
          ]
        }
      ]
    },
    {
      "cell_type": "markdown",
      "source": [
        "<h2>Step 5: Filter only Arecanut data</h2>"
      ],
      "metadata": {
        "id": "GB_f6xB_W1LR"
      }
    },
    {
      "cell_type": "code",
      "source": [
        "df_arecanut = df[df['Crop'].str.contains('Arecanut', case=False, na=False)]\n",
        "print(\"\\nFiltered Arecanut Data Shape:\", df_arecanut.shape)"
      ],
      "metadata": {
        "colab": {
          "base_uri": "https://localhost:8080/"
        },
        "id": "8bOnQZv9W6fb",
        "outputId": "192b8313-51c6-4103-d573-282bfb742121"
      },
      "execution_count": 13,
      "outputs": [
        {
          "output_type": "stream",
          "name": "stdout",
          "text": [
            "\n",
            "Filtered Arecanut Data Shape: (2192, 10)\n"
          ]
        }
      ]
    },
    {
      "cell_type": "markdown",
      "source": [
        "<h2>Step 6: Handle missing or invalid data</h2>"
      ],
      "metadata": {
        "id": "U3Z5leMKW8uX"
      }
    },
    {
      "cell_type": "code",
      "source": [
        "df_arecanut = df_arecanut.dropna(subset=['Production', 'Area'])\n",
        "df_arecanut = df_arecanut[df_arecanut['Area'] > 0]\n",
        "df_arecanut = df_arecanut[df_arecanut['Production'] >= 0]"
      ],
      "metadata": {
        "id": "Fx6sNGvUXtoX"
      },
      "execution_count": 14,
      "outputs": []
    },
    {
      "cell_type": "markdown",
      "source": [
        "<h2>Step 7: Feature Engineering</h2>"
      ],
      "metadata": {
        "id": "YrhbePq2XHhL"
      }
    },
    {
      "cell_type": "code",
      "source": [
        "df_arecanut['Yield'] = df_arecanut['Production'] / df_arecanut['Area']"
      ],
      "metadata": {
        "id": "gnKycb_9X2Bp"
      },
      "execution_count": 15,
      "outputs": []
    },
    {
      "cell_type": "markdown",
      "source": [
        "<h2>Step 8: Encode categorical features</h2>"
      ],
      "metadata": {
        "id": "jylTvjxZXLDL"
      }
    },
    {
      "cell_type": "code",
      "source": [
        "categorical_cols = ['State', 'District', 'Season', 'Year']\n",
        "le = LabelEncoder()\n",
        "for col in categorical_cols:\n",
        "    df_arecanut[col] = le.fit_transform(df_arecanut[col].astype(str))"
      ],
      "metadata": {
        "id": "WVkMydPyX8VY"
      },
      "execution_count": 20,
      "outputs": []
    },
    {
      "cell_type": "markdown",
      "source": [
        "<h2>Step 9: Define features and target</h2>"
      ],
      "metadata": {
        "id": "9RPv6WoHXNBm"
      }
    },
    {
      "cell_type": "code",
      "source": [
        "X = df_arecanut[['State', 'District', 'Year', 'Season', 'Area']]\n",
        "y = df_arecanut['Yield']"
      ],
      "metadata": {
        "id": "r5oQIJLHYGnQ"
      },
      "execution_count": 22,
      "outputs": []
    },
    {
      "cell_type": "markdown",
      "source": [
        "<h2>Step 10: Split data</h2>"
      ],
      "metadata": {
        "id": "nMdMhvCJXOwA"
      }
    },
    {
      "cell_type": "code",
      "source": [
        "X_train, X_test, y_train, y_test = train_test_split(X, y, test_size=0.2, random_state=42)"
      ],
      "metadata": {
        "id": "nuqmUG1FYNic"
      },
      "execution_count": 23,
      "outputs": []
    },
    {
      "cell_type": "markdown",
      "source": [
        "<h2>Step 11: Scale features</h2>"
      ],
      "metadata": {
        "id": "oAR9_eH3XRBM"
      }
    },
    {
      "cell_type": "code",
      "source": [
        "scaler = StandardScaler()\n",
        "X_train_scaled = scaler.fit_transform(X_train)\n",
        "X_test_scaled = scaler.transform(X_test)"
      ],
      "metadata": {
        "id": "haO4kxYsYu8b"
      },
      "execution_count": 24,
      "outputs": []
    },
    {
      "cell_type": "markdown",
      "source": [
        "<h2>Step 12: Train Models</h2>"
      ],
      "metadata": {
        "id": "D4Psk4VXXSrC"
      }
    },
    {
      "cell_type": "code",
      "source": [
        "models = {\n",
        "    \"Linear Regression\": LinearRegression(),\n",
        "    \"Random Forest\": RandomForestRegressor(random_state=42)\n",
        "}\n",
        "\n",
        "for name, model in models.items():\n",
        "    model.fit(X_train_scaled, y_train)\n",
        "    y_pred = model.predict(X_test_scaled)\n",
        "    print(f\"\\n{name} Performance:\")\n",
        "    print(\"MAE:\", mean_absolute_error(y_test, y_pred))\n",
        "    print(\"MSE:\", mean_squared_error(y_test, y_pred))\n",
        "    print(\"RMSE:\", np.sqrt(mean_squared_error(y_test, y_pred)))\n",
        "    print(\"R² Score:\", r2_score(y_test, y_pred))"
      ],
      "metadata": {
        "colab": {
          "base_uri": "https://localhost:8080/"
        },
        "id": "dFJSI5pOZATp",
        "outputId": "94d79dfe-03bd-4f04-ddce-ce3ab258a30c"
      },
      "execution_count": 25,
      "outputs": [
        {
          "output_type": "stream",
          "name": "stdout",
          "text": [
            "\n",
            "Linear Regression Performance:\n",
            "MAE: 1.7716737516580483\n",
            "MSE: 6.49312756340393\n",
            "RMSE: 2.5481616046483255\n",
            "R² Score: 0.1930097848615131\n",
            "\n",
            "Random Forest Performance:\n",
            "MAE: 0.41627293561878354\n",
            "MSE: 0.6070676286077866\n",
            "RMSE: 0.7791454476590277\n",
            "R² Score: 0.9245513611999658\n"
          ]
        }
      ]
    },
    {
      "cell_type": "markdown",
      "source": [
        "<h2>Step 13: Hyperparameter Tuning (for Random Forest)</h2>"
      ],
      "metadata": {
        "id": "UVr634DLXUh4"
      }
    },
    {
      "cell_type": "code",
      "source": [
        "param_grid = {\n",
        "    'n_estimators': [100, 200],\n",
        "    'max_depth': [10, 20, None],\n",
        "    'min_samples_split': [2, 5, 10]\n",
        "}\n",
        "grid_search = GridSearchCV(RandomForestRegressor(random_state=42),\n",
        "                           param_grid, cv=3, n_jobs=-1, verbose=1)\n",
        "grid_search.fit(X_train_scaled, y_train)\n",
        "best_rf = grid_search.best_estimator_"
      ],
      "metadata": {
        "colab": {
          "base_uri": "https://localhost:8080/"
        },
        "id": "HXDiAJoRZE6h",
        "outputId": "8fa5befc-8e9c-4943-c438-5550f1111bce"
      },
      "execution_count": 26,
      "outputs": [
        {
          "output_type": "stream",
          "name": "stdout",
          "text": [
            "Fitting 3 folds for each of 18 candidates, totalling 54 fits\n"
          ]
        }
      ]
    },
    {
      "cell_type": "markdown",
      "source": [
        "<h2>Step 14: Evaluate Tuned Model</h2>"
      ],
      "metadata": {
        "id": "aKLfLcfFXWGt"
      }
    },
    {
      "cell_type": "code",
      "source": [
        "y_pred_best = best_rf.predict(X_test_scaled)\n",
        "print(\"\\nTuned Random Forest Results:\")\n",
        "print(\"Best Parameters:\", grid_search.best_params_)\n",
        "print(\"R² Score:\", r2_score(y_test, y_pred_best))\n",
        "print(\"RMSE:\", np.sqrt(mean_squared_error(y_test, y_pred_best)))"
      ],
      "metadata": {
        "colab": {
          "base_uri": "https://localhost:8080/"
        },
        "id": "vu66NWWWZVD6",
        "outputId": "4dedd6cd-4f3c-4abf-a303-f723c23e5d18"
      },
      "execution_count": 27,
      "outputs": [
        {
          "output_type": "stream",
          "name": "stdout",
          "text": [
            "\n",
            "Tuned Random Forest Results:\n",
            "Best Parameters: {'max_depth': None, 'min_samples_split': 10, 'n_estimators': 200}\n",
            "R² Score: 0.9255151021622218\n",
            "RMSE: 0.7741532588318798\n"
          ]
        }
      ]
    },
    {
      "cell_type": "markdown",
      "source": [
        "<h2>Step 15: Visualization</h2>"
      ],
      "metadata": {
        "id": "4vZlMNZ5XXtM"
      }
    },
    {
      "cell_type": "code",
      "source": [
        "plt.figure(figsize=(8, 6))\n",
        "sns.scatterplot(x=y_test, y=y_pred_best, alpha=0.6)\n",
        "plt.xlabel(\"Actual Yield\")\n",
        "plt.ylabel(\"Predicted Yield\")\n",
        "plt.title(\"Actual vs Predicted Arecanut Yield (Random Forest)\")\n",
        "plt.show()"
      ],
      "metadata": {
        "colab": {
          "base_uri": "https://localhost:8080/",
          "height": 564
        },
        "id": "ykElnCMVZ-3k",
        "outputId": "06737c22-2afc-4030-f8d0-ff48ee891b38"
      },
      "execution_count": 28,
      "outputs": [
        {
          "output_type": "display_data",
          "data": {
            "text/plain": [
              "<Figure size 800x600 with 1 Axes>"
            ],
            "image/png": "[encoded data removed]"
          },
          "metadata": {}
        }
      ]
    },
    {
      "cell_type": "markdown",
      "source": [
        "<h2>Step 16: Future Prediction Example</h2>"
      ],
      "metadata": {
        "id": "tLNMyxRQXZnR"
      }
    },
    {
      "cell_type": "code",
      "source": [
        "sample_input = X_test.iloc[0].values.reshape(1, -1)\n",
        "predicted_yield = best_rf.predict(sample_input)\n",
        "print(\"\\n Predicted Arecanut Yield for Sample Input:\", predicted_yield[0])"
      ],
      "metadata": {
        "colab": {
          "base_uri": "https://localhost:8080/"
        },
        "id": "H-gWjQaRaErY",
        "outputId": "4c7d77e6-bea5-4f5d-8daf-65d171cef59b"
      },
      "execution_count": 29,
      "outputs": [
        {
          "output_type": "stream",
          "name": "stdout",
          "text": [
            "\n",
            " Predicted Arecanut Yield for Sample Input: 8.263365016990624\n"
          ]
        }
      ]
    },
    {
      "cell_type": "markdown",
      "source": [],
      "metadata": {
        "id": "tbSBgj20XDAK"
      }
    }
  ]
}